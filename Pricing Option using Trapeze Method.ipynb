{
 "cells": [
  {
   "cell_type": "code",
   "execution_count": 49,
   "id": "e22ea4e4",
   "metadata": {},
   "outputs": [],
   "source": [
    "import numpy as np\n",
    "import math\n",
    "from math import sqrt,exp"
   ]
  },
  {
   "cell_type": "code",
   "execution_count": 50,
   "id": "6f6c126a",
   "metadata": {},
   "outputs": [],
   "source": [
    "sigma = 0.2\n",
    "T = 10\n",
    "r = 0.02\n",
    "S = 50\n",
    "K = 50\n",
    "a = -10\n",
    "b = 10\n",
    "n = 100000"
   ]
  },
  {
   "cell_type": "code",
   "execution_count": 79,
   "id": "613da26d",
   "metadata": {},
   "outputs": [],
   "source": [
    "def trapeze(f,a,b,n):\n",
    "    if a>b:\n",
    "        return -trapeze(b,a)\n",
    "    \n",
    "    pas=(b-a)/n\n",
    "    res = (a+b)/2\n",
    "    I=0.5*f(res)\n",
    "    for k in range(1,n):\n",
    "        res += pas\n",
    "        I+=f(res)\n",
    "        # (a+K*pas)**2\n",
    "    I+=0.5*f(b)\n",
    "    I*=pas\n",
    "        \n",
    "    return I"
   ]
  },
  {
   "cell_type": "code",
   "execution_count": 80,
   "id": "023a0529",
   "metadata": {},
   "outputs": [],
   "source": [
    "def f(S,T,sigma,r,K,res):\n",
    "    return max((S*exp(r*T))*(exp((sigma*sqrt(T)*res)-0.5*(sigma**2)*T))-K,0)"
   ]
  },
  {
   "cell_type": "code",
   "execution_count": 81,
   "id": "1907884d",
   "metadata": {},
   "outputs": [],
   "source": [
    "def h(res):\n",
    "    return f(S,T,sigma,r,K,res)*(1/sqrt(2*np.pi))*(exp((-(res)**2)/2))"
   ]
  },
  {
   "cell_type": "code",
   "execution_count": 82,
   "id": "7d4eac6b",
   "metadata": {},
   "outputs": [
    {
     "data": {
      "text/plain": [
       "16.35449971698372"
      ]
     },
     "execution_count": 82,
     "metadata": {},
     "output_type": "execute_result"
    }
   ],
   "source": [
    "I = trapeze(h,a,b,n)* np.exp(-r*T)\n",
    "I"
   ]
  },
  {
   "cell_type": "code",
   "execution_count": null,
   "id": "3bf0faeb",
   "metadata": {},
   "outputs": [],
   "source": []
  }
 ],
 "metadata": {
  "kernelspec": {
   "display_name": "Python 3 (ipykernel)",
   "language": "python",
   "name": "python3"
  },
  "language_info": {
   "codemirror_mode": {
    "name": "ipython",
    "version": 3
   },
   "file_extension": ".py",
   "mimetype": "text/x-python",
   "name": "python",
   "nbconvert_exporter": "python",
   "pygments_lexer": "ipython3",
   "version": "3.9.13"
  }
 },
 "nbformat": 4,
 "nbformat_minor": 5
}
